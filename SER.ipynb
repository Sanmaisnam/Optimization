{
 "cells": [
  {
   "cell_type": "code",
   "execution_count": 1,
   "metadata": {},
   "outputs": [
    {
     "name": "stdout",
     "output_type": "stream",
     "text": [
      "Requirement already satisfied: pyaudio in d:\\anaconda\\lib\\site-packages (0.2.11)\n",
      "Note: you may need to restart the kernel to use updated packages.\n"
     ]
    }
   ],
   "source": [
    "pip install pyaudio\n"
   ]
  },
  {
   "cell_type": "code",
   "execution_count": 2,
   "metadata": {},
   "outputs": [
    {
     "name": "stdout",
     "output_type": "stream",
     "text": [
      "Features extracted: 180\n",
      "Accuracy: 74.26%\n"
     ]
    }
   ],
   "source": [
    "import librosa\n",
    "import soundfile\n",
    "import os, glob, pickle\n",
    "import numpy as np\n",
    "from sklearn.model_selection import train_test_split\n",
    "from sklearn.neural_network import MLPClassifier\n",
    "from sklearn.metrics import accuracy_score\n",
    "\n",
    "#DataFlair - Extract features (mfcc, chroma, mel) from a sound file\n",
    "def extract_feature(file_name, mfcc, chroma, mel):\n",
    "    with soundfile.SoundFile(file_name) as sound_file:\n",
    "        X = sound_file.read(dtype=\"float32\")\n",
    "        sample_rate=sound_file.samplerate\n",
    "        if chroma:\n",
    "            stft=np.abs(librosa.stft(X))\n",
    "            result=np.array([])\n",
    "        if mfcc:\n",
    "            mfccs=np.mean(librosa.feature.mfcc(y=X, sr=sample_rate, n_mfcc=40).T, axis=0)\n",
    "            result=np.hstack((result, mfccs))\n",
    "        if chroma:\n",
    "            chroma=np.mean(librosa.feature.chroma_stft(S=stft, sr=sample_rate).T,axis=0)\n",
    "            result=np.hstack((result, chroma))\n",
    "        if mel:\n",
    "            #pitches = np.mean(librosa.piptrack(y=X, sr=sample_rate), axis=0)\n",
    "            mel=np.mean(librosa.feature.melspectrogram(X, sr=sample_rate).T,axis=0)\n",
    "            result=np.hstack((result, mel))\n",
    "    return result\n",
    "\n",
    "\n",
    "#DataFlair - Emotions in the RAVDESS dataset\n",
    "emotions={\n",
    "  '01':'neutral',\n",
    "  '02':'calm',\n",
    "  '03':'happy',\n",
    "  '04':'sad',\n",
    "  '05':'angry',\n",
    "  '06':'fearful',\n",
    "  '07':'disgust',\n",
    "  '08':'surprised'\n",
    "}\n",
    "#DataFlair - Emotions to observe\n",
    "observed_emotions=['calm', 'happy', 'fearful', 'disgust']\n",
    "\n",
    "#DataFlair - Load the data and extract features for each sound file\n",
    "def load_data(test_size=0.2):\n",
    "    x,y=[],[]\n",
    "    for file in glob.glob(\"D:\\\\EPITA\\\\Curriculum\\\\Optimization\\\\ravdess-emotional-speech-audio\\\\Actor_*\\\\*.wav\"):\n",
    "        file_name=os.path.basename(file)\n",
    "        emotion=emotions[file_name.split(\"-\")[2]]\n",
    "        if emotion not in observed_emotions:\n",
    "            continue\n",
    "        feature=extract_feature(file, mfcc=True, chroma=True, mel=True)\n",
    "        x.append(feature)\n",
    "        y.append(emotion)\n",
    "    return train_test_split(np.array(x), y, test_size=test_size, random_state=9)\n",
    "\n",
    "#DataFlair - Split the dataset\n",
    "x_train,x_test,y_train,y_test=load_data(test_size=0.3)\n",
    "\n",
    "#DataFlair - Get the number of features extracted\n",
    "print(f'Features extracted: {x_train.shape[1]}')\n",
    "\n",
    "#DataFlair - Initialize the Multi Layer Perceptron Classifier\n",
    "model=MLPClassifier(alpha=0.01, batch_size=256, epsilon=1e-08, hidden_layer_sizes=(300,), learning_rate='adaptive', max_iter=1500)\n",
    "\n",
    "#DataFlair - Train the model\n",
    "model.fit(x_train,y_train)\n",
    "\n",
    "#DataFlair - Predict for the test set\n",
    "y_pred=model.predict(x_test)\n",
    "\n",
    "#DataFlair - Calculate the accuracy of our model\n",
    "accuracy=accuracy_score(y_true=y_test, y_pred=y_pred)\n",
    "#DataFlair - Print the accuracy\n",
    "print(\"Accuracy: {:.2f}%\".format(accuracy*100))"
   ]
  },
  {
   "cell_type": "code",
   "execution_count": 3,
   "metadata": {},
   "outputs": [
    {
     "name": "stdout",
     "output_type": "stream",
     "text": [
      "180\n",
      "180\n",
      "180\n",
      "180\n",
      "180\n",
      "180\n",
      "180\n",
      "180\n",
      "180\n",
      "180\n",
      "180\n",
      "180\n",
      "180\n",
      "180\n",
      "180\n",
      "180\n",
      "180\n",
      "180\n",
      "180\n",
      "180\n",
      "180\n",
      "180\n",
      "180\n",
      "180\n",
      "180\n",
      "180\n",
      "180\n",
      "180\n",
      "180\n",
      "180\n",
      "180\n",
      "180\n",
      "180\n",
      "180\n",
      "180\n",
      "180\n",
      "180\n",
      "180\n",
      "180\n",
      "180\n",
      "180\n",
      "180\n",
      "180\n",
      "180\n",
      "180\n",
      "180\n",
      "180\n",
      "180\n",
      "180\n",
      "180\n",
      "180\n",
      "180\n",
      "180\n",
      "180\n",
      "180\n",
      "180\n",
      "180\n",
      "180\n",
      "180\n",
      "180\n",
      "180\n",
      "180\n",
      "180\n",
      "180\n",
      "180\n",
      "180\n",
      "180\n",
      "180\n",
      "180\n",
      "180\n",
      "180\n",
      "180\n",
      "180\n",
      "180\n",
      "180\n",
      "180\n",
      "180\n",
      "180\n",
      "180\n",
      "180\n",
      "180\n",
      "180\n",
      "180\n",
      "180\n",
      "180\n",
      "180\n",
      "180\n",
      "180\n",
      "180\n",
      "180\n",
      "180\n",
      "180\n",
      "180\n",
      "180\n",
      "180\n",
      "180\n",
      "180\n",
      "180\n",
      "180\n",
      "180\n",
      "180\n",
      "180\n",
      "180\n",
      "180\n",
      "180\n",
      "180\n",
      "180\n",
      "180\n",
      "180\n",
      "180\n",
      "180\n",
      "180\n",
      "180\n",
      "180\n",
      "180\n",
      "180\n",
      "180\n",
      "180\n",
      "180\n",
      "180\n",
      "180\n",
      "180\n",
      "180\n",
      "180\n",
      "180\n",
      "180\n",
      "180\n",
      "180\n",
      "180\n",
      "180\n",
      "180\n",
      "180\n",
      "180\n",
      "180\n",
      "180\n",
      "180\n",
      "180\n",
      "180\n",
      "180\n",
      "180\n",
      "180\n",
      "180\n",
      "180\n",
      "180\n",
      "180\n",
      "180\n",
      "180\n",
      "180\n",
      "180\n",
      "180\n",
      "180\n",
      "180\n",
      "180\n",
      "180\n",
      "180\n",
      "180\n",
      "180\n",
      "180\n",
      "180\n",
      "180\n",
      "180\n",
      "180\n",
      "180\n",
      "180\n",
      "180\n",
      "180\n",
      "180\n",
      "180\n",
      "180\n",
      "180\n",
      "180\n",
      "180\n",
      "180\n",
      "180\n",
      "180\n",
      "180\n",
      "180\n",
      "180\n",
      "180\n",
      "180\n",
      "180\n",
      "180\n",
      "180\n",
      "180\n",
      "180\n",
      "180\n",
      "180\n",
      "180\n",
      "180\n",
      "180\n",
      "180\n",
      "180\n",
      "180\n",
      "180\n",
      "180\n",
      "180\n",
      "180\n",
      "180\n",
      "180\n",
      "180\n",
      "180\n",
      "180\n"
     ]
    }
   ],
   "source": [
    "for i in range(len(x_test)):\n",
    "    print(len(x_test[i]))"
   ]
  },
  {
   "cell_type": "code",
   "execution_count": 4,
   "metadata": {},
   "outputs": [
    {
     "name": "stdout",
     "output_type": "stream",
     "text": [
      "[[-6.98910828e+02  6.72396469e+01  6.17663145e+00 ...  7.71708741e-08\n",
      "   1.28724302e-08  7.11364478e-09]\n",
      " [-6.19317871e+02  7.58024979e+01 -1.19600601e+01 ...  6.41060012e-07\n",
      "   6.25748768e-08  7.33082395e-09]\n",
      " [-4.85298309e+02  7.49215622e+01 -1.19717941e+01 ...  4.06490835e-06\n",
      "   3.61294155e-07  1.45132075e-08]\n",
      " ...\n",
      " [-5.98688110e+02  5.80942459e+01 -7.90877283e-01 ...  1.83178611e-06\n",
      "   1.84982994e-07  7.96273536e-09]\n",
      " [-6.67639465e+02  6.86084976e+01  5.38877678e+00 ...  1.23163659e-07\n",
      "   1.47386148e-08  7.43224149e-09]\n",
      " [-6.13189148e+02  4.63625526e+01 -2.80027676e+00 ...  1.59534557e-06\n",
      "   1.13446816e-07  1.10568239e-08]] ['disgust', 'happy', 'disgust', 'calm', 'disgust', 'happy', 'disgust', 'disgust', 'calm', 'disgust', 'fearful', 'fearful', 'calm', 'fearful', 'disgust', 'fearful', 'fearful', 'calm', 'fearful', 'disgust', 'calm', 'happy', 'calm', 'calm', 'fearful', 'fearful', 'happy', 'happy', 'calm', 'disgust', 'disgust', 'happy', 'fearful', 'happy', 'disgust', 'disgust', 'fearful', 'disgust', 'happy', 'fearful', 'disgust', 'fearful', 'fearful', 'happy', 'calm', 'happy', 'fearful', 'fearful', 'calm', 'happy', 'disgust', 'disgust', 'disgust', 'happy', 'calm', 'fearful', 'disgust', 'fearful', 'happy', 'happy', 'disgust', 'fearful', 'fearful', 'fearful', 'happy', 'calm', 'calm', 'happy', 'disgust', 'fearful', 'disgust', 'happy', 'disgust', 'disgust', 'happy', 'fearful', 'fearful', 'calm', 'happy', 'happy', 'fearful', 'happy', 'disgust', 'calm', 'fearful', 'calm', 'calm', 'calm', 'disgust', 'happy', 'happy', 'disgust', 'disgust', 'calm', 'happy', 'fearful', 'disgust', 'calm', 'happy', 'calm', 'calm', 'happy', 'disgust', 'happy', 'fearful', 'fearful', 'fearful', 'calm', 'calm', 'happy', 'happy', 'fearful', 'happy', 'happy', 'calm', 'fearful', 'fearful', 'calm', 'fearful', 'disgust', 'happy', 'disgust', 'calm', 'happy', 'calm', 'calm', 'fearful', 'happy', 'disgust', 'happy', 'fearful', 'calm', 'happy', 'calm', 'happy', 'disgust', 'calm', 'disgust', 'disgust', 'calm', 'disgust', 'calm', 'fearful', 'disgust', 'happy', 'disgust', 'happy', 'disgust', 'fearful', 'happy', 'happy', 'fearful', 'fearful', 'calm', 'disgust', 'disgust', 'calm', 'disgust', 'calm', 'fearful', 'happy', 'disgust', 'calm', 'happy', 'fearful', 'calm', 'calm', 'calm', 'fearful', 'fearful', 'happy', 'fearful', 'calm', 'happy', 'calm', 'calm', 'fearful', 'disgust', 'fearful', 'fearful', 'calm', 'happy', 'happy', 'disgust', 'disgust', 'happy', 'happy', 'calm', 'fearful', 'disgust', 'calm', 'happy', 'disgust', 'fearful', 'fearful', 'disgust', 'happy', 'calm', 'calm', 'happy', 'fearful', 'happy', 'disgust', 'fearful', 'fearful', 'happy', 'happy', 'calm', 'fearful', 'fearful', 'happy', 'disgust', 'disgust', 'fearful', 'disgust', 'disgust', 'calm', 'fearful', 'disgust', 'disgust', 'fearful', 'happy', 'fearful', 'happy', 'happy', 'calm', 'disgust', 'fearful', 'disgust', 'disgust', 'calm', 'calm', 'disgust', 'calm', 'happy', 'calm', 'disgust', 'happy', 'calm', 'calm', 'calm', 'happy', 'disgust', 'fearful', 'fearful', 'calm', 'fearful', 'fearful', 'happy', 'calm', 'happy', 'fearful', 'calm', 'calm', 'fearful', 'calm', 'calm', 'fearful', 'calm', 'disgust', 'disgust', 'fearful', 'fearful', 'disgust', 'happy', 'fearful', 'calm', 'fearful', 'fearful', 'happy', 'happy', 'fearful', 'happy', 'happy', 'happy', 'disgust', 'happy', 'fearful', 'calm', 'disgust', 'calm', 'calm', 'fearful', 'fearful', 'happy', 'happy', 'fearful', 'fearful', 'fearful', 'happy', 'calm', 'disgust', 'happy', 'fearful', 'calm', 'fearful', 'disgust', 'disgust', 'happy', 'calm', 'happy', 'happy', 'happy', 'calm', 'fearful', 'calm', 'fearful', 'happy', 'fearful', 'disgust', 'happy', 'happy', 'fearful', 'disgust', 'disgust', 'fearful', 'disgust', 'disgust', 'fearful', 'disgust', 'disgust', 'disgust', 'happy', 'fearful', 'disgust', 'happy', 'calm', 'disgust', 'fearful', 'happy', 'happy', 'fearful', 'disgust', 'calm', 'calm', 'fearful', 'fearful', 'happy', 'disgust', 'calm', 'calm', 'disgust', 'fearful', 'fearful', 'calm', 'disgust', 'calm', 'happy', 'happy', 'happy', 'calm', 'happy', 'calm', 'fearful', 'calm', 'calm', 'calm', 'calm', 'fearful', 'calm', 'happy', 'happy', 'calm', 'calm', 'calm', 'disgust', 'calm', 'fearful', 'happy', 'happy', 'fearful', 'happy', 'calm', 'calm', 'fearful', 'calm', 'happy', 'disgust', 'happy', 'disgust', 'disgust', 'fearful', 'fearful', 'calm', 'fearful', 'calm', 'calm', 'happy', 'happy', 'fearful', 'calm', 'calm', 'fearful', 'happy', 'fearful', 'fearful', 'happy', 'happy', 'disgust', 'calm', 'happy', 'disgust', 'calm', 'happy', 'fearful', 'fearful', 'happy', 'fearful', 'calm', 'happy', 'fearful', 'happy', 'disgust', 'calm', 'calm', 'happy', 'disgust', 'fearful', 'happy', 'fearful', 'disgust', 'calm', 'calm', 'fearful', 'disgust', 'disgust', 'fearful', 'calm', 'fearful', 'fearful', 'fearful', 'disgust', 'fearful', 'happy', 'fearful', 'disgust', 'disgust', 'happy', 'fearful', 'disgust', 'happy', 'fearful', 'calm', 'fearful', 'happy', 'calm', 'fearful', 'fearful', 'happy', 'disgust', 'happy', 'disgust', 'disgust', 'disgust', 'happy', 'calm', 'disgust', 'fearful', 'fearful', 'happy', 'disgust', 'fearful', 'fearful', 'calm', 'disgust', 'disgust', 'fearful', 'disgust', 'disgust', 'disgust']\n",
      "202\n"
     ]
    }
   ],
   "source": [
    "print(x_train, y_train)\n",
    "print(len(x_test))"
   ]
  },
  {
   "cell_type": "code",
   "execution_count": 5,
   "metadata": {},
   "outputs": [
    {
     "name": "stdout",
     "output_type": "stream",
     "text": [
      "[[-4.69359497e+02  7.23961868e+01 -1.47085667e+01 ...  2.22055201e-06\n",
      "   2.07237392e-07  1.21822712e-08]\n",
      " [-6.08390015e+02  7.58604202e+01 -7.15431976e+00 ...  9.89099362e-07\n",
      "   9.58929718e-08  9.69895098e-09]\n",
      " [-5.69346558e+02  5.87526665e+01 -1.13478670e+01 ...  7.11634584e-07\n",
      "   6.14814866e-08  6.11492723e-09]\n",
      " ...\n",
      " [-7.47700439e+02  7.80554810e+01  1.11761608e+01 ...  6.80388084e-08\n",
      "   1.02505373e-08  6.75965328e-09]\n",
      " [-5.68636047e+02  7.14218979e+01 -4.45530128e+00 ...  3.84268077e-07\n",
      "   3.38872468e-08  8.88563267e-09]\n",
      " [-6.60817017e+02  8.33865356e+01  1.29060736e+01 ...  2.30356250e-08\n",
      "   8.39595238e-09  8.13792500e-09]] ['happy', 'disgust', 'disgust', 'calm', 'fearful', 'disgust', 'disgust', 'disgust', 'disgust', 'disgust', 'happy', 'fearful', 'disgust', 'fearful', 'disgust', 'calm', 'happy', 'disgust', 'calm', 'calm', 'fearful', 'happy', 'happy', 'happy', 'calm', 'calm', 'disgust', 'calm', 'disgust', 'happy', 'disgust', 'disgust', 'disgust', 'disgust', 'fearful', 'happy', 'fearful', 'disgust', 'disgust', 'happy', 'disgust', 'disgust', 'calm', 'disgust', 'fearful', 'calm', 'calm', 'happy', 'happy', 'calm', 'disgust', 'calm', 'disgust', 'fearful', 'happy', 'calm', 'calm', 'disgust', 'happy', 'happy', 'calm', 'calm', 'happy', 'calm', 'fearful', 'calm', 'happy', 'calm', 'calm', 'fearful', 'happy', 'fearful', 'happy', 'fearful', 'calm', 'calm', 'calm', 'happy', 'calm', 'happy', 'happy', 'calm', 'happy', 'calm', 'calm', 'fearful', 'disgust', 'calm', 'fearful', 'fearful', 'disgust', 'disgust', 'disgust', 'happy', 'calm', 'disgust', 'disgust', 'disgust', 'fearful', 'disgust', 'disgust', 'disgust', 'disgust', 'disgust', 'calm', 'calm', 'disgust', 'disgust', 'calm', 'disgust', 'calm', 'happy', 'calm', 'happy', 'disgust', 'fearful', 'calm', 'calm', 'calm', 'calm', 'disgust', 'disgust', 'fearful', 'happy', 'disgust', 'fearful', 'happy', 'fearful', 'calm', 'happy', 'calm', 'fearful', 'disgust', 'calm', 'happy', 'fearful', 'happy', 'disgust', 'fearful', 'fearful', 'fearful', 'calm', 'happy', 'happy', 'calm', 'disgust', 'calm', 'disgust', 'fearful', 'calm', 'disgust', 'fearful', 'calm', 'disgust', 'happy', 'disgust', 'disgust', 'fearful', 'disgust', 'fearful', 'calm', 'happy', 'fearful', 'fearful', 'fearful', 'fearful', 'calm', 'happy', 'happy', 'happy', 'happy', 'calm', 'happy', 'happy', 'fearful', 'happy', 'happy', 'fearful', 'happy', 'calm', 'happy', 'fearful', 'happy', 'disgust', 'disgust', 'disgust', 'disgust', 'fearful', 'happy', 'fearful', 'calm', 'calm', 'calm', 'happy', 'disgust', 'fearful', 'happy', 'happy', 'calm', 'disgust', 'happy', 'calm']\n"
     ]
    }
   ],
   "source": [
    "print(x_test, y_test)"
   ]
  },
  {
   "cell_type": "code",
   "execution_count": 26,
   "metadata": {},
   "outputs": [
    {
     "name": "stdout",
     "output_type": "stream",
     "text": [
      "{'happy': array([-1.80497960e+06,  2.04447964e+05, -2.93468567e+04,  1.90562569e+04,\n",
      "        7.84123715e+02,  2.36780208e+04, -2.75596678e+04, -3.07433451e+03,\n",
      "       -2.17231638e+04, -2.00005190e+04, -1.31272749e+04, -6.40303568e+03,\n",
      "       -8.42027344e+03, -1.05434631e+04, -9.86716212e+03, -5.80969761e+02,\n",
      "       -8.45153989e+03, -2.00935063e+03, -5.59946116e+03, -7.99584033e+03,\n",
      "       -5.64807201e+03, -4.46174788e+03, -4.22886916e+03, -4.23232720e+03,\n",
      "       -6.80625108e+03, -2.13887264e+03, -5.65297962e+03, -4.03795764e+02,\n",
      "       -1.04749021e+03,  1.17720587e+03,  4.55738300e+02,  2.59850775e+03,\n",
      "        3.13924798e+02,  2.61209385e+03,  1.57122794e+03,  1.21272865e+03,\n",
      "        1.38493917e+03,  1.71041080e+03,  1.86578632e+03,  3.58740801e+03,\n",
      "        2.00734062e+03,  1.99200756e+03,  1.97965382e+03,  1.99063191e+03,\n",
      "        2.04116383e+03,  2.06507248e+03,  2.04823001e+03,  2.03159683e+03,\n",
      "        2.06648394e+03,  2.05065546e+03,  2.03439419e+03,  2.01862537e+03,\n",
      "        2.06664315e+02,  9.48686364e+00,  1.86358366e+01,  9.91577265e+01,\n",
      "        3.17688443e+02,  4.76845499e+02,  6.67229619e+02,  1.05150765e+03,\n",
      "        1.11273204e+03,  9.43363912e+02,  9.00201644e+02,  1.12419354e+03,\n",
      "        1.41963634e+03,  1.28486622e+03,  1.15911353e+03,  1.51630589e+03,\n",
      "        2.24006937e+03,  1.32854903e+03,  9.64608798e+02,  8.70167409e+02,\n",
      "        7.40911958e+02,  8.69402356e+02,  6.99677038e+02,  7.33190799e+02,\n",
      "        1.07414734e+03,  1.13546251e+03,  5.32667218e+02,  3.58857028e+02,\n",
      "        3.00713654e+02,  5.05329694e+02,  5.60575476e+02,  7.55397965e+02,\n",
      "        2.92180169e+03,  1.75415205e+03,  4.84327173e+02,  4.40632144e+02,\n",
      "        4.23230275e+02,  4.73709414e+02,  2.94528086e+02,  2.17755743e+02,\n",
      "        2.18416836e+02,  2.16763093e+02,  2.75456557e+02,  3.06037527e+02,\n",
      "        2.40718668e+02,  3.86525841e+02,  2.98001988e+02,  1.84144707e+02,\n",
      "        1.43722521e+02,  1.38886274e+02,  8.55067197e+01,  7.37187606e+01,\n",
      "        5.36195683e+01,  6.33276746e+01,  1.17575163e+02,  1.11407289e+02,\n",
      "        5.01952744e+01,  6.97173697e+01,  4.05284120e+01,  3.55878286e+01,\n",
      "        4.15224942e+01,  4.01039945e+01,  3.68951428e+01,  3.54437987e+01,\n",
      "        3.03425884e+01,  3.60038456e+01,  3.76000378e+01,  2.89800977e+01,\n",
      "        1.69409151e+01,  1.66275062e+01,  1.90605705e+01,  1.60174677e+01,\n",
      "        1.61147252e+01,  2.14176487e+01,  1.70351417e+01,  1.27943236e+01,\n",
      "        1.04656195e+01,  8.00833815e+00,  9.19469884e+00,  6.65766164e+00,\n",
      "        5.67065672e+00,  5.60911634e+00,  5.15872558e+00,  4.55261571e+00,\n",
      "        4.35738060e+00,  4.45279324e+00,  4.22591560e+00,  4.03286433e+00,\n",
      "        3.69330392e+00,  3.51471096e+00,  3.28632906e+00,  3.16008051e+00,\n",
      "        2.96409046e+00,  2.64706650e+00,  2.62614013e+00,  2.50824712e+00,\n",
      "        1.96646900e+00,  1.80590561e+00,  1.82704269e+00,  2.03824051e+00,\n",
      "        2.40276204e+00,  2.28646092e+00,  2.17350811e+00,  1.85615145e+00,\n",
      "        1.74147503e+00,  1.71737514e+00,  1.31701109e+00,  9.05524551e-01,\n",
      "        6.22357846e-01,  5.26517059e-01,  4.73247073e-01,  4.04122105e-01,\n",
      "        3.42173290e-01,  2.86513713e-01,  2.44131439e-01,  1.85886494e-01,\n",
      "        1.31718964e-01,  1.03629430e-01,  7.94197578e-02,  6.32025779e-02,\n",
      "        4.99096548e-02,  3.83798876e-02,  2.82527656e-02,  1.99751901e-02,\n",
      "        1.39135883e-02,  6.65522707e-03,  6.82607995e-04,  2.53220596e-05]), 'disgust': array([-2.17989100e+06,  2.42637406e+05, -1.08357193e+04,  3.61918539e+04,\n",
      "       -3.45171379e+03,  2.69140826e+04, -3.26690280e+04,  2.43183803e+03,\n",
      "       -3.06605096e+04, -1.71373515e+04, -1.52793746e+04, -4.86410219e+03,\n",
      "       -6.82617439e+03, -1.38570820e+04, -1.02692561e+04, -3.67364011e+03,\n",
      "       -1.13775387e+04, -3.69999103e+03, -9.37549708e+03, -1.04209972e+04,\n",
      "       -8.52831226e+03, -7.02007976e+03, -7.99576272e+03, -6.58885516e+03,\n",
      "       -1.07707266e+04, -4.02301261e+03, -8.21093108e+03, -3.86686214e+03,\n",
      "       -5.11729360e+03, -1.36630636e+03, -1.60247800e+03,  3.42038700e+02,\n",
      "       -9.42842251e+02,  2.05250911e+03,  1.15330081e+03,  1.74669638e+03,\n",
      "        1.78979735e+03,  2.77612009e+03,  9.51101050e+02,  2.79679596e+03,\n",
      "        2.31059768e+03,  2.28222959e+03,  2.28957477e+03,  2.30602568e+03,\n",
      "        2.37191083e+03,  2.42608539e+03,  2.43717820e+03,  2.41222696e+03,\n",
      "        2.42240145e+03,  2.39796272e+03,  2.41153330e+03,  2.37469250e+03,\n",
      "        1.23261055e+02,  5.76692099e+00,  1.82500847e+01,  6.32087896e+01,\n",
      "        1.96265184e+02,  3.12840208e+02,  5.03265071e+02,  6.93032865e+02,\n",
      "        6.93817719e+02,  5.02105553e+02,  4.40510437e+02,  4.75006056e+02,\n",
      "        4.52183968e+02,  5.38702322e+02,  7.43444035e+02,  6.18938195e+02,\n",
      "        7.46348091e+02,  5.93983801e+02,  4.81161822e+02,  5.20926620e+02,\n",
      "        3.87701186e+02,  3.70597301e+02,  4.09920012e+02,  3.77355751e+02,\n",
      "        2.97160446e+02,  3.46419650e+02,  2.88027387e+02,  1.94934097e+02,\n",
      "        1.66152146e+02,  1.42149150e+02,  1.72003372e+02,  1.38048359e+02,\n",
      "        1.02483313e+02,  1.23907692e+02,  1.13118942e+02,  8.47512399e+01,\n",
      "        7.27040497e+01,  6.17586932e+01,  5.96600119e+01,  6.33896120e+01,\n",
      "        5.41346832e+01,  4.56395567e+01,  4.62151461e+01,  4.57924643e+01,\n",
      "        3.12908377e+01,  4.28703817e+01,  3.66391891e+01,  3.16311378e+01,\n",
      "        3.26646866e+01,  3.20963940e+01,  2.62572840e+01,  2.21323215e+01,\n",
      "        1.69671847e+01,  1.55749613e+01,  1.41819938e+01,  1.30144648e+01,\n",
      "        1.20383319e+01,  1.34772460e+01,  1.21425478e+01,  1.34816003e+01,\n",
      "        1.54599127e+01,  1.56550571e+01,  1.34810949e+01,  9.45968254e+00,\n",
      "        7.80894410e+00,  6.58233531e+00,  5.71345706e+00,  5.47079659e+00,\n",
      "        5.00466239e+00,  5.37089875e+00,  4.70710548e+00,  4.76722753e+00,\n",
      "        3.83397581e+00,  3.70407277e+00,  3.68999522e+00,  3.87972034e+00,\n",
      "        3.83099346e+00,  3.70261263e+00,  2.91488433e+00,  2.79914170e+00,\n",
      "        2.64028788e+00,  2.61120728e+00,  2.79353382e+00,  3.19259127e+00,\n",
      "        3.90205252e+00,  4.65626959e+00,  5.00714178e+00,  5.50752001e+00,\n",
      "        5.55850161e+00,  6.13262878e+00,  6.05741575e+00,  5.33903981e+00,\n",
      "        4.39877885e+00,  4.12482580e+00,  3.89335076e+00,  3.38137780e+00,\n",
      "        2.93348360e+00,  2.50578465e+00,  2.31200801e+00,  2.22216505e+00,\n",
      "        1.93518432e+00,  1.99196242e+00,  2.23393364e+00,  2.37644233e+00,\n",
      "        2.34984090e+00,  1.79648182e+00,  1.56869609e+00,  1.29751115e+00,\n",
      "        1.05530022e+00,  9.40739597e-01,  8.30004491e-01,  7.17761646e-01,\n",
      "        5.50631593e-01,  4.04524029e-01,  3.03846448e-01,  2.19828335e-01,\n",
      "        1.60500721e-01,  1.05338331e-01,  7.36326720e-02,  5.23806310e-02,\n",
      "        3.61401783e-02,  2.81137409e-02,  2.23736908e-02,  1.63708294e-02,\n",
      "        1.08633144e-02,  4.98805461e-03,  5.05094460e-04,  3.06567783e-05]), 'fearful': array([-1.36157304e+06,  1.44578673e+05, -2.53239404e+04,  1.90023340e+04,\n",
      "       -7.23290572e+03,  1.78853654e+04, -2.13135359e+04, -5.85306597e+02,\n",
      "       -2.01228657e+04, -1.69593720e+04, -1.17706069e+04, -4.40404931e+03,\n",
      "       -3.45561077e+03, -6.52639138e+03, -7.54538125e+03,  2.72953722e+03,\n",
      "       -4.46741726e+03, -1.32163398e+03, -1.23303023e+03, -4.36368857e+03,\n",
      "       -2.68180749e+03, -9.75750252e+02,  2.27789564e+02, -8.47806687e+02,\n",
      "       -2.88648907e+03,  9.01774870e+02, -2.52200560e+03,  1.70903279e+03,\n",
      "       -6.78587389e+02,  1.06113056e+03,  9.11438895e+02,  3.27210470e+03,\n",
      "        1.09230523e+03,  2.26110337e+03,  2.44555350e+03,  1.89597796e+03,\n",
      "        1.08995750e+03,  1.46357717e+03,  1.18417207e+03,  2.21880607e+03,\n",
      "        1.52359200e+03,  1.50288980e+03,  1.50679513e+03,  1.52489235e+03,\n",
      "        1.57299646e+03,  1.58271779e+03,  1.59636247e+03,  1.59387418e+03,\n",
      "        1.60970875e+03,  1.59208442e+03,  1.57966150e+03,  1.56176389e+03,\n",
      "        1.77519102e+02,  7.19543470e+00,  2.21185664e+01,  8.35781739e+01,\n",
      "        2.07094759e+02,  3.55389596e+02,  6.47625673e+02,  1.16250569e+03,\n",
      "        1.38927667e+03,  8.38154924e+02,  9.80035291e+02,  1.30035358e+03,\n",
      "        1.70321089e+03,  2.13184977e+03,  2.11287420e+03,  2.44937899e+03,\n",
      "        3.54557482e+03,  3.64500484e+03,  3.42525232e+03,  3.94761426e+03,\n",
      "        4.55213889e+03,  4.51713985e+03,  3.00870160e+03,  1.93758630e+03,\n",
      "        1.21143636e+03,  1.09223200e+03,  7.54766279e+02,  7.39946175e+02,\n",
      "        5.83625883e+02,  5.01689993e+02,  6.39391118e+02,  8.65423452e+02,\n",
      "        6.58853945e+02,  6.11061319e+02,  8.45280662e+02,  8.57192584e+02,\n",
      "        1.23735730e+03,  1.51966292e+03,  1.13491084e+03,  1.69004531e+03,\n",
      "        1.55820795e+03,  6.15401323e+02,  6.80640323e+02,  6.81408903e+02,\n",
      "        3.47936841e+02,  2.49351705e+02,  2.60658684e+02,  3.07734873e+02,\n",
      "        4.66772550e+02,  5.93108225e+02,  2.90262560e+02,  1.55302484e+02,\n",
      "        1.54686683e+02,  1.48353350e+02,  1.09728125e+02,  1.08157141e+02,\n",
      "        1.20162318e+02,  8.65801217e+01,  6.32612410e+01,  6.49335495e+01,\n",
      "        9.36054930e+01,  1.04940714e+02,  5.87443212e+01,  4.45103861e+01,\n",
      "        4.79090380e+01,  3.52118919e+01,  3.49637793e+01,  4.08928895e+01,\n",
      "        4.21788338e+01,  2.87561823e+01,  2.93813136e+01,  3.15009840e+01,\n",
      "        2.09798954e+01,  2.32491047e+01,  2.12145084e+01,  1.29396806e+01,\n",
      "        1.01900736e+01,  1.26736117e+01,  9.75759836e+00,  7.55338738e+00,\n",
      "        1.04636060e+01,  1.06598414e+01,  9.41016368e+00,  9.13264628e+00,\n",
      "        7.57020530e+00,  6.18728650e+00,  5.72344711e+00,  4.77025926e+00,\n",
      "        4.58479256e+00,  3.82250262e+00,  3.79109313e+00,  3.79321618e+00,\n",
      "        3.99460265e+00,  3.84921567e+00,  3.72368635e+00,  3.50521794e+00,\n",
      "        3.71467416e+00,  4.05970939e+00,  4.36574050e+00,  4.53070939e+00,\n",
      "        5.23229437e+00,  4.50118209e+00,  4.25617913e+00,  4.38984653e+00,\n",
      "        4.33253390e+00,  4.09207481e+00,  3.16977266e+00,  2.33255847e+00,\n",
      "        1.74049251e+00,  1.44605940e+00,  1.20240502e+00,  9.05866146e-01,\n",
      "        8.00819354e-01,  7.09073342e-01,  5.10468554e-01,  4.04086555e-01,\n",
      "        3.21301538e-01,  2.24094554e-01,  1.61655237e-01,  1.22627539e-01,\n",
      "        8.76131874e-02,  6.47647246e-02,  5.13197780e-02,  3.75641863e-02,\n",
      "        2.89105808e-02,  1.31936367e-02,  1.21936583e-03,  2.21649748e-05]), 'calm': array([-2.36784744e+06,  2.61175132e+05,  1.08505093e+04,  5.86651604e+04,\n",
      "        8.11735857e+03,  4.58255411e+04, -1.80352710e+04,  8.63325021e+03,\n",
      "       -2.29135398e+04, -1.22110287e+04, -5.26700734e+03, -5.63856077e+03,\n",
      "       -1.92817385e+03, -7.14154639e+03, -1.15752284e+04, -9.08773759e+02,\n",
      "       -7.78869997e+03, -2.52278714e+03, -5.47086350e+03, -6.44971310e+03,\n",
      "       -6.59726028e+03, -8.46093037e+03, -4.66651579e+03, -5.65525576e+03,\n",
      "       -1.14487121e+04, -4.98176315e+03, -8.86858956e+03, -7.07870639e+03,\n",
      "       -8.48121277e+03, -6.43863545e+03, -5.83836922e+03, -2.70642829e+03,\n",
      "       -4.02352450e+03, -3.92227859e+02,  2.89247363e+02,  2.04565706e+03,\n",
      "        1.73102810e+03,  1.77360294e+03,  2.76014095e+03,  4.43832497e+03,\n",
      "        2.16036061e+03,  2.11691121e+03,  2.15411391e+03,  2.18702943e+03,\n",
      "        2.24972640e+03,  2.31180107e+03,  2.38242329e+03,  2.36660215e+03,\n",
      "        2.38606236e+03,  2.34048813e+03,  2.33632177e+03,  2.27117370e+03,\n",
      "        1.98535736e+00,  9.45715553e+00,  4.55088455e+01,  6.03831018e+01,\n",
      "        1.09570542e+02,  1.69714133e+02,  2.83581218e+02,  2.33452621e+02,\n",
      "        9.87367914e+01,  6.48908291e+01,  6.57664607e+01,  8.01713183e+01,\n",
      "        1.06293554e+02,  1.76801989e+02,  1.81374339e+02,  1.20364933e+02,\n",
      "        5.93738227e+01,  5.32650655e+01,  7.57970025e+01,  7.64077733e+01,\n",
      "        4.86938758e+01,  4.45649816e+01,  8.61485008e+01,  7.89025234e+01,\n",
      "        3.20780014e+01,  2.44146792e+01,  2.63063177e+01,  2.79993786e+01,\n",
      "        2.05534841e+01,  1.51042214e+01,  1.95254526e+01,  1.30379128e+01,\n",
      "        8.81895655e+00,  8.52796536e+00,  1.42735706e+01,  2.60745710e+01,\n",
      "        2.41860681e+01,  1.31888992e+01,  6.99150694e+00,  1.07843388e+01,\n",
      "        9.62155707e+00,  6.64076826e+00,  9.76355365e+00,  9.16164856e+00,\n",
      "        4.39425582e+00,  4.26194423e+00,  4.29597693e+00,  6.01299108e+00,\n",
      "        5.19757682e+00,  2.71482282e+00,  2.19968937e+00,  2.61482186e+00,\n",
      "        2.35090631e+00,  1.55224556e+00,  1.23231841e+00,  1.02707994e+00,\n",
      "        1.11855344e+00,  1.08924900e+00,  1.31732329e+00,  1.62053761e+00,\n",
      "        1.83175226e+00,  9.94911788e-01,  6.48087781e-01,  4.74476527e-01,\n",
      "        4.55465940e-01,  4.76867236e-01,  5.31208571e-01,  5.42225239e-01,\n",
      "        6.14553942e-01,  4.98266642e-01,  4.67357467e-01,  4.72198425e-01,\n",
      "        4.91783728e-01,  3.74488509e-01,  3.20707664e-01,  3.86784440e-01,\n",
      "        4.85315671e-01,  6.14965050e-01,  6.88637057e-01,  7.24314365e-01,\n",
      "        1.01360696e+00,  1.09681817e+00,  1.14476214e+00,  1.26433992e+00,\n",
      "        1.23765533e+00,  1.14218491e+00,  9.37773392e-01,  8.16959352e-01,\n",
      "        6.77625496e-01,  7.40404457e-01,  7.86328849e-01,  6.60308041e-01,\n",
      "        4.61992261e-01,  4.05600028e-01,  3.99582610e-01,  4.19840100e-01,\n",
      "        3.97944501e-01,  4.34905593e-01,  3.92766051e-01,  3.40179359e-01,\n",
      "        3.47023610e-01,  3.56518806e-01,  3.83596068e-01,  4.10089463e-01,\n",
      "        3.36958199e-01,  2.65256253e-01,  2.19340138e-01,  1.54970328e-01,\n",
      "        1.09583096e-01,  8.15960873e-02,  6.27198590e-02,  5.69808574e-02,\n",
      "        4.50427607e-02,  3.51066747e-02,  2.69534326e-02,  2.04387235e-02,\n",
      "        1.37377501e-02,  8.86308720e-03,  5.50259997e-03,  3.79383730e-03,\n",
      "        2.82997218e-03,  2.25097630e-03,  1.67418145e-03,  1.19342327e-03,\n",
      "        7.62720077e-04,  3.31357916e-04,  4.90774621e-05,  2.53937499e-05])}\n",
      "180\n",
      "180\n",
      "180\n",
      "180\n"
     ]
    }
   ],
   "source": [
    "#print(x_test[0]+x_test[1])\n",
    "\n",
    "combine = list(zip(y_test, x_test))\n",
    "\n",
    "dict1 = {'happy': [], 'disgust': [], 'fearful': [], 'calm': [] }\n",
    "\n",
    "for i in range(len(combine)):\n",
    "    if combine[i][0] == 'happy':\n",
    "        dict1['happy'] = combine[i][1]\n",
    "    elif combine[i][0] == 'disgust':\n",
    "        dict1['disgust'] = combine[i][1]\n",
    "    elif combine[i][0] == 'fearful':\n",
    "        dict1['fearful'] = combine[i][1]\n",
    "    elif combine[i][0] == 'calm':\n",
    "        dict1['calm'] = combine[i][1]\n",
    "        \n",
    "        \n",
    "#print(dict1)\n",
    "\n",
    "\n",
    "for i in dict1.keys():\n",
    "    #print(i)\n",
    "    for j in range(len(combine)):\n",
    "        if i==combine[j][0]:\n",
    "            dict1[i] +=combine[j][1]\n",
    "print(dict1)\n",
    "for _,v in dict1.items():\n",
    "    print(len(v))"
   ]
  },
  {
   "cell_type": "code",
   "execution_count": 27,
   "metadata": {},
   "outputs": [
    {
     "name": "stdout",
     "output_type": "stream",
     "text": [
      "            happy       disgust       fearful          calm\n",
      "0   -1.804980e+06 -2.179891e+06 -1.361573e+06 -2.367847e+06\n",
      "1    2.044480e+05  2.426374e+05  1.445787e+05  2.611751e+05\n",
      "2   -2.934686e+04 -1.083572e+04 -2.532394e+04  1.085051e+04\n",
      "3    1.905626e+04  3.619185e+04  1.900233e+04  5.866516e+04\n",
      "4    7.841237e+02 -3.451714e+03 -7.232906e+03  8.117359e+03\n",
      "..            ...           ...           ...           ...\n",
      "175  1.997519e-02  1.637083e-02  3.756419e-02  1.193423e-03\n",
      "176  1.391359e-02  1.086331e-02  2.891058e-02  7.627201e-04\n",
      "177  6.655227e-03  4.988055e-03  1.319364e-02  3.313579e-04\n",
      "178  6.826080e-04  5.050945e-04  1.219366e-03  4.907746e-05\n",
      "179  2.532206e-05  3.065678e-05  2.216497e-05  2.539375e-05\n",
      "\n",
      "[180 rows x 4 columns]\n"
     ]
    }
   ],
   "source": [
    "import pandas as pd\n",
    "\n",
    "df = pd.DataFrame(dict1, columns=['happy','disgust','fearful', 'calm'])\n",
    "print(df)"
   ]
  },
  {
   "cell_type": "code",
   "execution_count": 32,
   "metadata": {},
   "outputs": [
    {
     "name": "stdout",
     "output_type": "stream",
     "text": [
      "            happy   disgust   fearful      calm\n",
      "happy    1.000000  0.999887  0.999903  0.999538\n",
      "disgust  0.999887  1.000000  0.999791  0.999811\n",
      "fearful  0.999903  0.999791  1.000000  0.999408\n",
      "calm     0.999538  0.999811  0.999408  1.000000\n"
     ]
    },
    {
     "data": {
      "text/plain": [
       "<matplotlib.axes._subplots.AxesSubplot at 0x22760ff7408>"
      ]
     },
     "execution_count": 32,
     "metadata": {},
     "output_type": "execute_result"
    },
    {
     "data": {
      "image/png": "[encoded data removed]",
      "text/plain": [
       "<Figure size 432x288 with 2 Axes>"
      ]
     },
     "metadata": {
      "needs_background": "light"
     },
     "output_type": "display_data"
    }
   ],
   "source": [
    "import matplotlib.pyplot as plt\n",
    "import seaborn as sn\n",
    "\n",
    "print(df.corr())\n",
    "\n",
    "\n",
    "\n",
    "corrMatrix = df.corr()\n",
    "sn.heatmap(corrMatrix, annot=True)\n",
    "\n",
    "-------------------------------------------------------------------------------------------------------------------"
   ]
  },
  {
   "cell_type": "code",
   "execution_count": 6,
   "metadata": {},
   "outputs": [
    {
     "name": "stdout",
     "output_type": "stream",
     "text": [
      "(202, 180)\n",
      "202\n"
     ]
    }
   ],
   "source": [
    "print(x_test.shape)\n",
    "print(len(y_test))"
   ]
  },
  {
   "cell_type": "code",
   "execution_count": null,
   "metadata": {},
   "outputs": [],
   "source": []
  },
  {
   "cell_type": "code",
   "execution_count": 279,
   "metadata": {},
   "outputs": [
    {
     "name": "stdout",
     "output_type": "stream",
     "text": [
      "180\n"
     ]
    }
   ],
   "source": [
    "print(len(x_test[0]))"
   ]
  },
  {
   "cell_type": "code",
   "execution_count": 272,
   "metadata": {
    "scrolled": false
   },
   "outputs": [
    {
     "name": "stdout",
     "output_type": "stream",
     "text": [
      "180\n",
      "180\n",
      "180\n",
      "180\n",
      "180\n",
      "180\n",
      "180\n",
      "180\n",
      "180\n",
      "180\n",
      "180\n",
      "180\n",
      "180\n",
      "180\n",
      "180\n",
      "180\n",
      "180\n",
      "180\n",
      "180\n",
      "180\n",
      "180\n",
      "180\n",
      "180\n",
      "180\n",
      "180\n",
      "180\n",
      "180\n",
      "180\n",
      "180\n",
      "180\n",
      "180\n",
      "180\n",
      "180\n",
      "180\n",
      "180\n",
      "180\n",
      "180\n",
      "180\n",
      "180\n",
      "180\n",
      "180\n",
      "180\n",
      "180\n",
      "180\n",
      "180\n",
      "180\n",
      "180\n",
      "180\n",
      "180\n",
      "180\n",
      "180\n",
      "180\n",
      "180\n",
      "180\n",
      "180\n",
      "180\n",
      "180\n",
      "180\n",
      "180\n",
      "180\n",
      "180\n",
      "180\n",
      "180\n",
      "180\n",
      "180\n",
      "180\n",
      "180\n",
      "180\n",
      "180\n",
      "180\n",
      "180\n",
      "180\n",
      "180\n",
      "180\n",
      "180\n",
      "180\n",
      "180\n",
      "180\n",
      "180\n",
      "180\n",
      "180\n",
      "180\n",
      "180\n",
      "180\n",
      "180\n",
      "180\n",
      "180\n",
      "180\n",
      "180\n",
      "180\n",
      "180\n",
      "180\n",
      "180\n",
      "180\n",
      "180\n",
      "180\n",
      "180\n",
      "180\n",
      "180\n",
      "180\n",
      "180\n",
      "180\n",
      "180\n",
      "180\n",
      "180\n",
      "180\n",
      "180\n",
      "180\n",
      "180\n",
      "180\n",
      "180\n",
      "180\n",
      "180\n",
      "180\n",
      "180\n",
      "180\n",
      "180\n",
      "180\n",
      "180\n",
      "180\n",
      "180\n",
      "180\n",
      "180\n",
      "180\n",
      "180\n",
      "180\n",
      "180\n",
      "180\n",
      "180\n",
      "180\n",
      "180\n",
      "180\n",
      "180\n",
      "180\n",
      "180\n",
      "180\n",
      "180\n",
      "180\n",
      "180\n",
      "180\n",
      "180\n",
      "180\n",
      "180\n",
      "180\n",
      "180\n",
      "180\n",
      "180\n",
      "180\n",
      "180\n",
      "180\n",
      "180\n",
      "180\n",
      "180\n",
      "180\n",
      "180\n",
      "180\n",
      "180\n",
      "180\n",
      "180\n",
      "180\n",
      "180\n",
      "180\n",
      "180\n",
      "180\n",
      "180\n",
      "180\n",
      "180\n",
      "180\n",
      "180\n",
      "180\n",
      "180\n",
      "180\n",
      "180\n",
      "180\n",
      "180\n",
      "180\n",
      "180\n",
      "180\n",
      "180\n",
      "180\n",
      "180\n",
      "180\n",
      "180\n",
      "180\n",
      "180\n",
      "180\n",
      "180\n",
      "180\n",
      "180\n",
      "180\n",
      "180\n",
      "180\n",
      "180\n",
      "180\n",
      "180\n",
      "180\n",
      "180\n",
      "180\n",
      "180\n",
      "180\n",
      "180\n",
      "180\n"
     ]
    }
   ],
   "source": [
    "for i in range(len(x_test)):\n",
    "    print(len(x_test[i]))"
   ]
  },
  {
   "cell_type": "code",
   "execution_count": 1,
   "metadata": {},
   "outputs": [
    {
     "ename": "NameError",
     "evalue": "name 'x_test' is not defined",
     "output_type": "error",
     "traceback": [
      "\u001b[1;31m---------------------------------------------------------------------------\u001b[0m",
      "\u001b[1;31mNameError\u001b[0m                                 Traceback (most recent call last)",
      "\u001b[1;32m<ipython-input-1-d0e07737d5cf>\u001b[0m in \u001b[0;36m<module>\u001b[1;34m\u001b[0m\n\u001b[0;32m      1\u001b[0m \u001b[1;31m#np addition\u001b[0m\u001b[1;33m\u001b[0m\u001b[1;33m\u001b[0m\u001b[1;33m\u001b[0m\u001b[0m\n\u001b[0;32m      2\u001b[0m \u001b[1;33m\u001b[0m\u001b[0m\n\u001b[1;32m----> 3\u001b[1;33m \u001b[0mnet\u001b[0m \u001b[1;33m=\u001b[0m \u001b[0mlist\u001b[0m\u001b[1;33m(\u001b[0m\u001b[0mzip\u001b[0m\u001b[1;33m(\u001b[0m\u001b[0mx_test\u001b[0m\u001b[1;33m,\u001b[0m \u001b[0my_test\u001b[0m\u001b[1;33m)\u001b[0m\u001b[1;33m)\u001b[0m\u001b[1;33m\u001b[0m\u001b[1;33m\u001b[0m\u001b[0m\n\u001b[0m\u001b[0;32m      4\u001b[0m \u001b[0mprint\u001b[0m\u001b[1;33m(\u001b[0m\u001b[0mnet\u001b[0m\u001b[1;33m)\u001b[0m\u001b[1;33m\u001b[0m\u001b[1;33m\u001b[0m\u001b[0m\n\u001b[0;32m      5\u001b[0m \u001b[1;33m\u001b[0m\u001b[0m\n",
      "\u001b[1;31mNameError\u001b[0m: name 'x_test' is not defined"
     ]
    }
   ],
   "source": [
    "#np addition\n",
    "\n",
    "net = list(zip(x_test, y_test))\n",
    "print(net)\n",
    "\n",
    "\n",
    "\n",
    "for j in range(len(combine)):\n",
    "    if i==combine[j][0]:\n",
    "        dict1[i].append(j)\n",
    "#print(dict1)\n"
   ]
  },
  {
   "cell_type": "code",
   "execution_count": 249,
   "metadata": {},
   "outputs": [
    {
     "name": "stdout",
     "output_type": "stream",
     "text": [
      "[-1.862973182764998, -2.609465925737671, -3.1583396001307293, -2.962223501143355, -1.2775152434787174, -2.2694523962731723, -2.614569830756311, -2.413374811424124, -2.8065126927676434, -2.694377321726019, -2.0991572973801738, -1.377309532289233, -2.9950409676354446, -3.293298629973207, -2.7025926434496115, -2.472086473971673, -2.214863541641843, -2.217396197664846, -3.13538985089384, -3.59511242254777, -2.4815605675724077, -2.893523968552401, -2.483978279550073, -3.510058026684528, -2.5008254578130447, -2.8731716907890723, -2.917319629345659, -3.547756918826197, -3.06951337928064, -3.029694232706449, -2.7199690817758597, -3.0592316154875396, -3.0523646526070363, -3.2743603733328173, -2.0673128763275908, -3.4619785184128005, -1.2288707241961583, -3.2535678873852154, -2.8032742966046182, -2.8441938186943565, -3.0544131711338927, -2.795789423590041, -3.1827857166211655, -3.356525783113356, -2.2300406510163464, -2.8924425992747977, -3.428468591307627, -2.168166715636525, -2.7555430472767632, -3.4860457603637562, -3.361814235152068, -2.6933266821281783, -2.7102794621791664, -3.2788509994916786, -2.9051050780041523, -2.426790927622469, -3.7739342824173363, -2.16922446635599, -2.8247430101438775, -1.9958007026583624, -3.8278080915541985, -3.463056579504444, -2.5399642656574692, -3.4753336809704884, -2.6966286053231427, -3.656946982038527, -2.0295181588597884, -2.666738272512968, -2.8827777698149912, -1.5672706566664953, -3.321708835820485, -2.5974767740849267, -2.349668655724078, -1.622297507642489, -3.647813746404487, -3.7875823435495914, -2.5923202965892176, -2.505348342156065, -2.9965416252302397, -3.0640686191343067, -3.291945309322551, -3.682324007581686, -2.4966704511618114, -3.425617100107844, -3.3854068469179643, -2.479803820604505, -2.777287342904538, -2.634286383321651, -2.7015601265662905, -2.9901851663422527, -3.3875410236587564, -2.454562550938507, -3.0689945768271425, -3.546044592565916, -3.1815147665533208, -2.756189539459108, -2.2915725845589305, -2.812586206768357, -1.388181230875385, -3.1364387492506296, -2.315123122732216, -3.0870432525405995, -3.2813826393307886, -3.2427892348165486, -2.6221074628652246, -3.60309832266441, -3.0671942168236495, -3.0074585786041212, -2.61758445716572, -2.477830601244109, -2.9669625341339594, -2.6988704362849463, -3.4692349085109915, -3.434402449971465, -2.8558492070570964, -2.049193432755173, -3.127862926342431, -3.535871174350919, -3.0028685787323104, -3.6527917498022955, -3.193300154202053, -3.1013761223607856, -2.746779933029349, -3.394803998544911, -2.5849794809324154, -3.169269372973669, -3.2733520956146567, -2.7861098747158737, -3.1989581342573543, -3.24710599266556, -3.1688328407830295, -2.882649358164514, -2.1548440649551104, -3.7134224976901287, -2.953164443583946, -3.0502478893525335, -3.3267028118413813, -3.084930326990265, -3.213757758155723, -3.3712507872304056, -2.697491746570969, -3.465231411227641, -2.4461688736767107, -2.8077150623623988, -2.858660337021427, -2.9569459614057725, -2.4721659497335446, -2.651589441836917, -2.700963004249117, -2.320993219252845, -2.942471569671256, -3.3685744822804864, -2.837536156418819, -3.8697249343758386, -2.529315661305366, -3.4548571148670497, -2.5686814765039045, -2.605525295532973, -2.9480258991184294, -2.8741794694342535, -2.794427130272355, -2.433142988814112, -2.9319480519451866, -2.148191786528601, -2.038258864747789, -3.0184132224551465, -3.508168249560279, -2.6223190217400387, -1.8429882631484824, -2.0945050771666676, -2.434324526248924, -2.71693082560734, -2.4701832477268932, -2.3812387881020496, -3.022278944623217, -3.5809063692308265, -2.4791956271590214, -1.647973384749973, -2.1604126438438644, -2.967496887717815, -1.7993655542516478, -2.981417563434604, -2.8231460631659835, -2.2954441757909354, -2.574864122352575, -2.9423095793595926, -2.8454624247848015, -1.177685362580545, -3.296640700034736, -3.5808323591437627, -2.628003559728952, -2.6265169225592686, -3.2926941439398236, -2.9809337552320385, -3.1908619665617284, -3.564971960684891, -2.8231460631659835, -3.240217258880825, -2.943411967767409, -3.0091013990356648, -1.7876346538153012, -2.497389907252956]\n"
     ]
    }
   ],
   "source": [
    "average_array = [] \n",
    "for i in range(len(x_test)):\n",
    "    k=0\n",
    "    for j in range(len(x_test[i])):\n",
    "        k += (x_test[i][j]/len(x_test))\n",
    "    average_array.append(k)\n",
    "print(average_array)"
   ]
  },
  {
   "cell_type": "code",
   "execution_count": 280,
   "metadata": {},
   "outputs": [
    {
     "name": "stdout",
     "output_type": "stream",
     "text": [
      "01 neutral\n",
      "02 calm\n",
      "03 happy\n",
      "04 sad\n",
      "05 angry\n",
      "06 fearful\n",
      "07 disgust\n",
      "08 surprised\n"
     ]
    }
   ],
   "source": [
    "for keys, values in emotions.items():\n",
    "    print(keys,values)"
   ]
  },
  {
   "cell_type": "code",
   "execution_count": 281,
   "metadata": {},
   "outputs": [
    {
     "name": "stdout",
     "output_type": "stream",
     "text": [
      "02\n",
      "03\n",
      "06\n",
      "07\n"
     ]
    }
   ],
   "source": [
    "for i in observed_emotions:\n",
    "    for key, values in emotions.items():\n",
    "        if i == values:\n",
    "            print(key)"
   ]
  },
  {
   "cell_type": "code",
   "execution_count": 282,
   "metadata": {},
   "outputs": [
    {
     "name": "stdout",
     "output_type": "stream",
     "text": [
      "['happy', 'disgust', 'disgust', 'calm', 'fearful', 'disgust', 'disgust', 'disgust', 'disgust', 'disgust', 'happy', 'fearful', 'disgust', 'fearful', 'disgust', 'calm', 'happy', 'disgust', 'calm', 'calm', 'fearful', 'happy', 'happy', 'happy', 'calm', 'calm', 'disgust', 'calm', 'disgust', 'happy', 'disgust', 'disgust', 'disgust', 'disgust', 'fearful', 'happy', 'fearful', 'disgust', 'disgust', 'happy', 'disgust', 'disgust', 'calm', 'disgust', 'fearful', 'calm', 'calm', 'happy', 'happy', 'calm', 'disgust', 'calm', 'disgust', 'fearful', 'happy', 'calm', 'calm', 'disgust', 'happy', 'happy', 'calm', 'calm', 'happy', 'calm', 'fearful', 'calm', 'happy', 'calm', 'calm', 'fearful', 'happy', 'fearful', 'happy', 'fearful', 'calm', 'calm', 'calm', 'happy', 'calm', 'happy', 'happy', 'calm', 'happy', 'calm', 'calm', 'fearful', 'disgust', 'calm', 'fearful', 'fearful', 'disgust', 'disgust', 'disgust', 'happy', 'calm', 'disgust', 'disgust', 'disgust', 'fearful', 'disgust', 'disgust', 'disgust', 'disgust', 'disgust', 'calm', 'calm', 'disgust', 'disgust', 'calm', 'disgust', 'calm', 'happy', 'calm', 'happy', 'disgust', 'fearful', 'calm', 'calm', 'calm', 'calm', 'disgust', 'disgust', 'fearful', 'happy', 'disgust', 'fearful', 'happy', 'fearful', 'calm', 'happy', 'calm', 'fearful', 'disgust', 'calm', 'happy', 'fearful', 'happy', 'disgust', 'fearful', 'fearful', 'fearful', 'calm', 'happy', 'happy', 'calm', 'disgust', 'calm', 'disgust', 'fearful', 'calm', 'disgust', 'fearful', 'calm', 'disgust', 'happy', 'disgust', 'disgust', 'fearful', 'disgust', 'fearful', 'calm', 'happy', 'fearful', 'fearful', 'fearful', 'fearful', 'calm', 'happy', 'happy', 'happy', 'happy', 'calm', 'happy', 'happy', 'fearful', 'happy', 'happy', 'fearful', 'happy', 'calm', 'happy', 'fearful', 'happy', 'disgust', 'disgust', 'disgust', 'disgust', 'fearful', 'happy', 'fearful', 'calm', 'calm', 'calm', 'happy', 'disgust', 'fearful', 'happy', 'happy', 'calm', 'disgust', 'happy', 'calm']\n",
      "{'happy', 'disgust', 'fearful', 'calm'}\n"
     ]
    }
   ],
   "source": [
    "#print(list(zip(x_test,y_test)))\n",
    "print(y_test)\n",
    "print(set(y_test))"
   ]
  },
  {
   "cell_type": "code",
   "execution_count": 284,
   "metadata": {},
   "outputs": [
    {
     "name": "stdout",
     "output_type": "stream",
     "text": [
      "['03', '07', '07', '02', '06', '07', '07', '07', '07', '07', '03', '06', '07', '06', '07', '02', '03', '07', '02', '02', '06', '03', '03', '03', '02', '02', '07', '02', '07', '03', '07', '07', '07', '07', '06', '03', '06', '07', '07', '03', '07', '07', '02', '07', '06', '02', '02', '03', '03', '02', '07', '02', '07', '06', '03', '02', '02', '07', '03', '03', '02', '02', '03', '02', '06', '02', '03', '02', '02', '06', '03', '06', '03', '06', '02', '02', '02', '03', '02', '03', '03', '02', '03', '02', '02', '06', '07', '02', '06', '06', '07', '07', '07', '03', '02', '07', '07', '07', '06', '07', '07', '07', '07', '07', '02', '02', '07', '07', '02', '07', '02', '03', '02', '03', '07', '06', '02', '02', '02', '02', '07', '07', '06', '03', '07', '06', '03', '06', '02', '03', '02', '06', '07', '02', '03', '06', '03', '07', '06', '06', '06', '02', '03', '03', '02', '07', '02', '07', '06', '02', '07', '06', '02', '07', '03', '07', '07', '06', '07', '06', '02', '03', '06', '06', '06', '06', '02', '03', '03', '03', '03', '02', '03', '03', '06', '03', '03', '06', '03', '02', '03', '06', '03', '07', '07', '07', '07', '06', '03', '06', '02', '02', '02', '03', '07', '06', '03', '03', '02', '07', '03', '02']\n",
      "202\n",
      "202\n",
      "202\n"
     ]
    },
    {
     "data": {
      "text/plain": [
       "\"combine = list(zip(y_test, average_array))\\n\\n#print(combine)\\ndict1 = {'happy': [], 'disgust': [], 'fearful': [], 'calm': [] }\\n\\nfor i in dict1.keys():\\n    #print(i)\\n    for j in range(len(combine)):\\n        if i==combine[j][0]:\\n            dict1[i].append(j)\\n#print(dict1)\\nfor _,v in dict1.items():\\n    print(len(v))\\n\""
      ]
     },
     "execution_count": 284,
     "metadata": {},
     "output_type": "execute_result"
    }
   ],
   "source": [
    "test_emotion_keys = []\n",
    "for i in y_test:\n",
    "    for key, value in emotions.items():\n",
    "        if i == value:\n",
    "            test_emotion_keys.append(key)\n",
    "print(test_emotion_keys)\n",
    "print(len(x_test))\n",
    "print(len(average_array))\n",
    "print(len(test_emotion_keys))\n",
    "\n",
    "'''combine = list(zip(y_test, average_array))\n",
    "\n",
    "#print(combine)\n",
    "dict1 = {'happy': [], 'disgust': [], 'fearful': [], 'calm': [] }\n",
    "\n",
    "for i in dict1.keys():\n",
    "    #print(i)\n",
    "    for j in range(len(combine)):\n",
    "        if i==combine[j][0]:\n",
    "            dict1[i].append(j)\n",
    "#print(dict1)\n",
    "for _,v in dict1.items():\n",
    "    print(len(v))\n",
    "'''\n"
   ]
  },
  {
   "cell_type": "code",
   "execution_count": 285,
   "metadata": {
    "scrolled": true
   },
   "outputs": [
    {
     "ename": "ValueError",
     "evalue": "arrays must all be same length",
     "output_type": "error",
     "traceback": [
      "\u001b[1;31m---------------------------------------------------------------------------\u001b[0m",
      "\u001b[1;31mValueError\u001b[0m                                Traceback (most recent call last)",
      "\u001b[1;32m<ipython-input-285-204dc00e41d8>\u001b[0m in \u001b[0;36m<module>\u001b[1;34m\u001b[0m\n\u001b[0;32m      3\u001b[0m \u001b[1;32mimport\u001b[0m \u001b[0mpandas\u001b[0m \u001b[1;32mas\u001b[0m \u001b[0mpd\u001b[0m\u001b[1;33m\u001b[0m\u001b[1;33m\u001b[0m\u001b[0m\n\u001b[0;32m      4\u001b[0m \u001b[1;33m\u001b[0m\u001b[0m\n\u001b[1;32m----> 5\u001b[1;33m \u001b[0mdf\u001b[0m \u001b[1;33m=\u001b[0m \u001b[0mpd\u001b[0m\u001b[1;33m.\u001b[0m\u001b[0mDataFrame\u001b[0m\u001b[1;33m(\u001b[0m\u001b[0mdict1\u001b[0m\u001b[1;33m,\u001b[0m \u001b[0mcolumns\u001b[0m\u001b[1;33m=\u001b[0m\u001b[1;33m[\u001b[0m\u001b[1;34m'happy'\u001b[0m\u001b[1;33m,\u001b[0m\u001b[1;34m'disgust'\u001b[0m\u001b[1;33m,\u001b[0m\u001b[1;34m'fearful'\u001b[0m\u001b[1;33m,\u001b[0m \u001b[1;34m'calm'\u001b[0m\u001b[1;33m]\u001b[0m\u001b[1;33m)\u001b[0m\u001b[1;33m\u001b[0m\u001b[1;33m\u001b[0m\u001b[0m\n\u001b[0m\u001b[0;32m      6\u001b[0m \u001b[0mprint\u001b[0m\u001b[1;33m(\u001b[0m\u001b[0mdf\u001b[0m\u001b[1;33m)\u001b[0m\u001b[1;33m\u001b[0m\u001b[1;33m\u001b[0m\u001b[0m\n\u001b[0;32m      7\u001b[0m \u001b[1;33m\u001b[0m\u001b[0m\n",
      "\u001b[1;32mD:\\Anaconda\\lib\\site-packages\\pandas\\core\\frame.py\u001b[0m in \u001b[0;36m__init__\u001b[1;34m(self, data, index, columns, dtype, copy)\u001b[0m\n\u001b[0;32m    409\u001b[0m             )\n\u001b[0;32m    410\u001b[0m         \u001b[1;32melif\u001b[0m \u001b[0misinstance\u001b[0m\u001b[1;33m(\u001b[0m\u001b[0mdata\u001b[0m\u001b[1;33m,\u001b[0m \u001b[0mdict\u001b[0m\u001b[1;33m)\u001b[0m\u001b[1;33m:\u001b[0m\u001b[1;33m\u001b[0m\u001b[1;33m\u001b[0m\u001b[0m\n\u001b[1;32m--> 411\u001b[1;33m             \u001b[0mmgr\u001b[0m \u001b[1;33m=\u001b[0m \u001b[0minit_dict\u001b[0m\u001b[1;33m(\u001b[0m\u001b[0mdata\u001b[0m\u001b[1;33m,\u001b[0m \u001b[0mindex\u001b[0m\u001b[1;33m,\u001b[0m \u001b[0mcolumns\u001b[0m\u001b[1;33m,\u001b[0m \u001b[0mdtype\u001b[0m\u001b[1;33m=\u001b[0m\u001b[0mdtype\u001b[0m\u001b[1;33m)\u001b[0m\u001b[1;33m\u001b[0m\u001b[1;33m\u001b[0m\u001b[0m\n\u001b[0m\u001b[0;32m    412\u001b[0m         \u001b[1;32melif\u001b[0m \u001b[0misinstance\u001b[0m\u001b[1;33m(\u001b[0m\u001b[0mdata\u001b[0m\u001b[1;33m,\u001b[0m \u001b[0mma\u001b[0m\u001b[1;33m.\u001b[0m\u001b[0mMaskedArray\u001b[0m\u001b[1;33m)\u001b[0m\u001b[1;33m:\u001b[0m\u001b[1;33m\u001b[0m\u001b[1;33m\u001b[0m\u001b[0m\n\u001b[0;32m    413\u001b[0m             \u001b[1;32mimport\u001b[0m \u001b[0mnumpy\u001b[0m\u001b[1;33m.\u001b[0m\u001b[0mma\u001b[0m\u001b[1;33m.\u001b[0m\u001b[0mmrecords\u001b[0m \u001b[1;32mas\u001b[0m \u001b[0mmrecords\u001b[0m\u001b[1;33m\u001b[0m\u001b[1;33m\u001b[0m\u001b[0m\n",
      "\u001b[1;32mD:\\Anaconda\\lib\\site-packages\\pandas\\core\\internals\\construction.py\u001b[0m in \u001b[0;36minit_dict\u001b[1;34m(data, index, columns, dtype)\u001b[0m\n\u001b[0;32m    229\u001b[0m             \u001b[1;31m# GH10856\u001b[0m\u001b[1;33m\u001b[0m\u001b[1;33m\u001b[0m\u001b[1;33m\u001b[0m\u001b[0m\n\u001b[0;32m    230\u001b[0m             \u001b[1;31m# raise ValueError if only scalars in dict\u001b[0m\u001b[1;33m\u001b[0m\u001b[1;33m\u001b[0m\u001b[1;33m\u001b[0m\u001b[0m\n\u001b[1;32m--> 231\u001b[1;33m             \u001b[0mindex\u001b[0m \u001b[1;33m=\u001b[0m \u001b[0mextract_index\u001b[0m\u001b[1;33m(\u001b[0m\u001b[0marrays\u001b[0m\u001b[1;33m[\u001b[0m\u001b[1;33m~\u001b[0m\u001b[0mmissing\u001b[0m\u001b[1;33m]\u001b[0m\u001b[1;33m)\u001b[0m\u001b[1;33m\u001b[0m\u001b[1;33m\u001b[0m\u001b[0m\n\u001b[0m\u001b[0;32m    232\u001b[0m         \u001b[1;32melse\u001b[0m\u001b[1;33m:\u001b[0m\u001b[1;33m\u001b[0m\u001b[1;33m\u001b[0m\u001b[0m\n\u001b[0;32m    233\u001b[0m             \u001b[0mindex\u001b[0m \u001b[1;33m=\u001b[0m \u001b[0mensure_index\u001b[0m\u001b[1;33m(\u001b[0m\u001b[0mindex\u001b[0m\u001b[1;33m)\u001b[0m\u001b[1;33m\u001b[0m\u001b[1;33m\u001b[0m\u001b[0m\n",
      "\u001b[1;32mD:\\Anaconda\\lib\\site-packages\\pandas\\core\\internals\\construction.py\u001b[0m in \u001b[0;36mextract_index\u001b[1;34m(data)\u001b[0m\n\u001b[0;32m    366\u001b[0m             \u001b[0mlengths\u001b[0m \u001b[1;33m=\u001b[0m \u001b[0mlist\u001b[0m\u001b[1;33m(\u001b[0m\u001b[0mset\u001b[0m\u001b[1;33m(\u001b[0m\u001b[0mraw_lengths\u001b[0m\u001b[1;33m)\u001b[0m\u001b[1;33m)\u001b[0m\u001b[1;33m\u001b[0m\u001b[1;33m\u001b[0m\u001b[0m\n\u001b[0;32m    367\u001b[0m             \u001b[1;32mif\u001b[0m \u001b[0mlen\u001b[0m\u001b[1;33m(\u001b[0m\u001b[0mlengths\u001b[0m\u001b[1;33m)\u001b[0m \u001b[1;33m>\u001b[0m \u001b[1;36m1\u001b[0m\u001b[1;33m:\u001b[0m\u001b[1;33m\u001b[0m\u001b[1;33m\u001b[0m\u001b[0m\n\u001b[1;32m--> 368\u001b[1;33m                 \u001b[1;32mraise\u001b[0m \u001b[0mValueError\u001b[0m\u001b[1;33m(\u001b[0m\u001b[1;34m\"arrays must all be same length\"\u001b[0m\u001b[1;33m)\u001b[0m\u001b[1;33m\u001b[0m\u001b[1;33m\u001b[0m\u001b[0m\n\u001b[0m\u001b[0;32m    369\u001b[0m \u001b[1;33m\u001b[0m\u001b[0m\n\u001b[0;32m    370\u001b[0m             \u001b[1;32mif\u001b[0m \u001b[0mhave_dicts\u001b[0m\u001b[1;33m:\u001b[0m\u001b[1;33m\u001b[0m\u001b[1;33m\u001b[0m\u001b[0m\n",
      "\u001b[1;31mValueError\u001b[0m: arrays must all be same length"
     ]
    }
   ],
   "source": [
    "#print(average_array, test_emotion_keys)\n",
    "\n",
    "import pandas as pd\n",
    "\n",
    "df = pd.DataFrame(dict1, columns=['happy','disgust','fearful', 'calm'])\n",
    "print(df)\n",
    "\n"
   ]
  },
  {
   "cell_type": "code",
   "execution_count": 286,
   "metadata": {},
   "outputs": [
    {
     "name": "stdout",
     "output_type": "stream",
     "text": [
      "202 202\n"
     ]
    }
   ],
   "source": [
    "print(len(average_array),len(test_emotion_keys))"
   ]
  },
  {
   "cell_type": "code",
   "execution_count": 287,
   "metadata": {},
   "outputs": [
    {
     "data": {
      "image/png": "[encoded data removed]",
      "text/plain": [
       "<Figure size 432x288 with 1 Axes>"
      ]
     },
     "metadata": {
      "needs_background": "light"
     },
     "output_type": "display_data"
    }
   ],
   "source": [
    "import matplotlib.pyplot as plt\n",
    "\n",
    "plt.scatter(average_array, test_emotion_keys)\n",
    "plt.show()"
   ]
  },
  {
   "cell_type": "code",
   "execution_count": 288,
   "metadata": {},
   "outputs": [
    {
     "name": "stdout",
     "output_type": "stream",
     "text": [
      "{'A': [-1.862973182764998, -2.609465925737671, -3.1583396001307293, -2.962223501143355, -1.2775152434787174, -2.2694523962731723, -2.614569830756311, -2.413374811424124, -2.8065126927676434, -2.694377321726019, -2.0991572973801738, -1.377309532289233, -2.9950409676354446, -3.293298629973207, -2.7025926434496115, -2.472086473971673, -2.214863541641843, -2.217396197664846, -3.13538985089384, -3.59511242254777, -2.4815605675724077, -2.893523968552401, -2.483978279550073, -3.510058026684528, -2.5008254578130447, -2.8731716907890723, -2.917319629345659, -3.547756918826197, -3.06951337928064, -3.029694232706449, -2.7199690817758597, -3.0592316154875396, -3.0523646526070363, -3.2743603733328173, -2.0673128763275908, -3.4619785184128005, -1.2288707241961583, -3.2535678873852154, -2.8032742966046182, -2.8441938186943565, -3.0544131711338927, -2.795789423590041, -3.1827857166211655, -3.356525783113356, -2.2300406510163464, -2.8924425992747977, -3.428468591307627, -2.168166715636525, -2.7555430472767632, -3.4860457603637562, -3.361814235152068, -2.6933266821281783, -2.7102794621791664, -3.2788509994916786, -2.9051050780041523, -2.426790927622469, -3.7739342824173363, -2.16922446635599, -2.8247430101438775, -1.9958007026583624, -3.8278080915541985, -3.463056579504444, -2.5399642656574692, -3.4753336809704884, -2.6966286053231427, -3.656946982038527, -2.0295181588597884, -2.666738272512968, -2.8827777698149912, -1.5672706566664953, -3.321708835820485, -2.5974767740849267, -2.349668655724078, -1.622297507642489, -3.647813746404487, -3.7875823435495914, -2.5923202965892176, -2.505348342156065, -2.9965416252302397, -3.0640686191343067, -3.291945309322551, -3.682324007581686, -2.4966704511618114, -3.425617100107844, -3.3854068469179643, -2.479803820604505, -2.777287342904538, -2.634286383321651, -2.7015601265662905, -2.9901851663422527, -3.3875410236587564, -2.454562550938507, -3.0689945768271425, -3.546044592565916, -3.1815147665533208, -2.756189539459108, -2.2915725845589305, -2.812586206768357, -1.388181230875385, -3.1364387492506296, -2.315123122732216, -3.0870432525405995, -3.2813826393307886, -3.2427892348165486, -2.6221074628652246, -3.60309832266441, -3.0671942168236495, -3.0074585786041212, -2.61758445716572, -2.477830601244109, -2.9669625341339594, -2.6988704362849463, -3.4692349085109915, -3.434402449971465, -2.8558492070570964, -2.049193432755173, -3.127862926342431, -3.535871174350919, -3.0028685787323104, -3.6527917498022955, -3.193300154202053, -3.1013761223607856, -2.746779933029349, -3.394803998544911, -2.5849794809324154, -3.169269372973669, -3.2733520956146567, -2.7861098747158737, -3.1989581342573543, -3.24710599266556, -3.1688328407830295, -2.882649358164514, -2.1548440649551104, -3.7134224976901287, -2.953164443583946, -3.0502478893525335, -3.3267028118413813, -3.084930326990265, -3.213757758155723, -3.3712507872304056, -2.697491746570969, -3.465231411227641, -2.4461688736767107, -2.8077150623623988, -2.858660337021427, -2.9569459614057725, -2.4721659497335446, -2.651589441836917, -2.700963004249117, -2.320993219252845, -2.942471569671256, -3.3685744822804864, -2.837536156418819, -3.8697249343758386, -2.529315661305366, -3.4548571148670497, -2.5686814765039045, -2.605525295532973, -2.9480258991184294, -2.8741794694342535, -2.794427130272355, -2.433142988814112, -2.9319480519451866, -2.148191786528601, -2.038258864747789, -3.0184132224551465, -3.508168249560279, -2.6223190217400387, -1.8429882631484824, -2.0945050771666676, -2.434324526248924, -2.71693082560734, -2.4701832477268932, -2.3812387881020496, -3.022278944623217, -3.5809063692308265, -2.4791956271590214, -1.647973384749973, -2.1604126438438644, -2.967496887717815, -1.7993655542516478, -2.981417563434604, -2.8231460631659835, -2.2954441757909354, -2.574864122352575, -2.9423095793595926, -2.8454624247848015, -1.177685362580545, -3.296640700034736, -3.5808323591437627, -2.628003559728952, -2.6265169225592686, -3.2926941439398236, -2.9809337552320385, -3.1908619665617284, -3.564971960684891, -2.8231460631659835, -3.240217258880825, -2.943411967767409, -3.0091013990356648, -1.7876346538153012, -2.497389907252956], 'B': ['03', '07', '07', '02', '06', '07', '07', '07', '07', '07', '03', '06', '07', '06', '07', '02', '03', '07', '02', '02', '06', '03', '03', '03', '02', '02', '07', '02', '07', '03', '07', '07', '07', '07', '06', '03', '06', '07', '07', '03', '07', '07', '02', '07', '06', '02', '02', '03', '03', '02', '07', '02', '07', '06', '03', '02', '02', '07', '03', '03', '02', '02', '03', '02', '06', '02', '03', '02', '02', '06', '03', '06', '03', '06', '02', '02', '02', '03', '02', '03', '03', '02', '03', '02', '02', '06', '07', '02', '06', '06', '07', '07', '07', '03', '02', '07', '07', '07', '06', '07', '07', '07', '07', '07', '02', '02', '07', '07', '02', '07', '02', '03', '02', '03', '07', '06', '02', '02', '02', '02', '07', '07', '06', '03', '07', '06', '03', '06', '02', '03', '02', '06', '07', '02', '03', '06', '03', '07', '06', '06', '06', '02', '03', '03', '02', '07', '02', '07', '06', '02', '07', '06', '02', '07', '03', '07', '07', '06', '07', '06', '02', '03', '06', '06', '06', '06', '02', '03', '03', '03', '03', '02', '03', '03', '06', '03', '03', '06', '03', '02', '03', '06', '03', '07', '07', '07', '07', '06', '03', '06', '02', '02', '02', '03', '07', '06', '03', '03', '02', '07', '03', '02']}\n",
      "            A   B\n",
      "0   -1.862973  03\n",
      "1   -2.609466  07\n",
      "2   -3.158340  07\n",
      "3   -2.962224  02\n",
      "4   -1.277515  06\n",
      "..        ...  ..\n",
      "197 -3.240217  03\n",
      "198 -2.943412  02\n",
      "199 -3.009101  07\n",
      "200 -1.787635  03\n",
      "201 -2.497390  02\n",
      "\n",
      "[202 rows x 2 columns]\n"
     ]
    },
    {
     "data": {
      "text/plain": [
       "<matplotlib.axes._subplots.AxesSubplot at 0x21d453b9048>"
      ]
     },
     "execution_count": 288,
     "metadata": {},
     "output_type": "execute_result"
    },
    {
     "data": {
      "image/png": "[encoded data removed]",
      "text/plain": [
       "<Figure size 432x288 with 2 Axes>"
      ]
     },
     "metadata": {
      "needs_background": "light"
     },
     "output_type": "display_data"
    }
   ],
   "source": [
    "import pandas as pd\n",
    "\n",
    "Data={'A': average_array, 'B':test_emotion_keys}\n",
    "\n",
    "print(Data)\n",
    "df = pd.DataFrame(Data, columns=['A','B'])\n",
    "print(df)\n",
    "\n",
    "df.corr()\n",
    "\n",
    "import seaborn as sn\n",
    "corrMatrix = df.corr()\n",
    "sn.heatmap(corrMatrix, annot=True)"
   ]
  },
  {
   "cell_type": "code",
   "execution_count": 191,
   "metadata": {},
   "outputs": [
    {
     "data": {
      "text/html": [
       "<div>\n",
       "<style scoped>\n",
       "    .dataframe tbody tr th:only-of-type {\n",
       "        vertical-align: middle;\n",
       "    }\n",
       "\n",
       "    .dataframe tbody tr th {\n",
       "        vertical-align: top;\n",
       "    }\n",
       "\n",
       "    .dataframe thead th {\n",
       "        text-align: right;\n",
       "    }\n",
       "</style>\n",
       "<table border=\"1\" class=\"dataframe\">\n",
       "  <thead>\n",
       "    <tr style=\"text-align: right;\">\n",
       "      <th></th>\n",
       "      <th>A</th>\n",
       "    </tr>\n",
       "  </thead>\n",
       "  <tbody>\n",
       "    <tr>\n",
       "      <td>A</td>\n",
       "      <td>1.0</td>\n",
       "    </tr>\n",
       "  </tbody>\n",
       "</table>\n",
       "</div>"
      ],
      "text/plain": [
       "     A\n",
       "A  1.0"
      ]
     },
     "execution_count": 191,
     "metadata": {},
     "output_type": "execute_result"
    }
   ],
   "source": [
    "d.corr()\n"
   ]
  },
  {
   "cell_type": "code",
   "execution_count": 200,
   "metadata": {},
   "outputs": [
    {
     "name": "stdout",
     "output_type": "stream",
     "text": [
      "    A   B   C\n",
      "0  45  38  10\n",
      "1  37  31  15\n",
      "2  42  26  17\n",
      "3  35  28  21\n",
      "4  39  33  12\n"
     ]
    }
   ],
   "source": [
    "from pandas import DataFrame\n",
    "\n",
    "Data = {'A': [45,37,42,35,39],\n",
    "        'B': [38,31,26,28,33],\n",
    "        'C': [10,15,17,21,12]\n",
    "        }\n",
    "\n",
    "d = DataFrame(Data,columns=['A','B','C'])\n",
    "print (d)"
   ]
  },
  {
   "cell_type": "code",
   "execution_count": 242,
   "metadata": {},
   "outputs": [
    {
     "data": {
      "text/plain": [
       "<matplotlib.axes._subplots.AxesSubplot at 0x21d45299188>"
      ]
     },
     "execution_count": 242,
     "metadata": {},
     "output_type": "execute_result"
    },
    {
     "data": {
      "image/png": "[encoded data removed]",
      "text/plain": [
       "<Figure size 432x288 with 2 Axes>"
      ]
     },
     "metadata": {
      "needs_background": "light"
     },
     "output_type": "display_data"
    }
   ],
   "source": [
    "d.corr()\n",
    "import seaborn as sn\n",
    "corrMatrix = d.corr()\n",
    "sn.heatmap(corrMatrix, annot=True)"
   ]
  },
  {
   "cell_type": "code",
   "execution_count": null,
   "metadata": {},
   "outputs": [],
   "source": []
  },
  {
   "cell_type": "code",
   "execution_count": null,
   "metadata": {},
   "outputs": [],
   "source": []
  }
 ],
 "metadata": {
  "kernelspec": {
   "display_name": "Python 3",
   "language": "python",
   "name": "python3"
  },
  "language_info": {
   "codemirror_mode": {
    "name": "ipython",
    "version": 3
   },
   "file_extension": ".py",
   "mimetype": "text/x-python",
   "name": "python",
   "nbconvert_exporter": "python",
   "pygments_lexer": "ipython3",
   "version": "3.7.4"
  }
 },
 "nbformat": 4,
 "nbformat_minor": 2
}
